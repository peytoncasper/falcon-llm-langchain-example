{
 "cells": [
  {
   "cell_type": "code",
   "execution_count": null,
   "id": "f93d3175",
   "metadata": {},
   "outputs": [],
   "source": [
    "#!pip3 install torch==2.0.1\n",
    "#!pip3 install transformers\n",
    "#!pip3 install accelerate\n",
    "#!pip3 install einops\n",
    "#!pip3 install huggingface_hub\n",
    "#!pip3 install langchain"
   ]
  },
  {
   "cell_type": "code",
   "execution_count": 1,
   "id": "507b1b16-ffe8-4640-8316-4e6fda7d145e",
   "metadata": {
    "tags": []
   },
   "outputs": [],
   "source": [
    "from transformers import AutoTokenizer, AutoModelForCausalLM\n",
    "from langchain import HuggingFaceHub\n",
    "from langchain import PromptTemplate, LLMChain\n",
    "import os\n",
    "import transformers\n",
    "import torch"
   ]
  },
  {
   "cell_type": "code",
   "execution_count": 11,
   "id": "6e5ea28c-bf0c-4325-9167-1b576f68eb32",
   "metadata": {},
   "outputs": [],
   "source": [
    "# Get your HuggingFace token from https://huggingface.co/settings/token\n",
    "os.environ[\"HUGGINGFACEHUB_API_TOKEN\"] = \"\"\n",
    "\n",
    "llm = HuggingFaceHub(repo_id=\"tiiuae/falcon-7b\", model_kwargs={\"max_length\":64})"
   ]
  },
  {
   "cell_type": "code",
   "execution_count": 12,
   "id": "9030d5af-eec3-4dce-a0e8-0b19fd04c6a3",
   "metadata": {},
   "outputs": [
    {
     "name": "stdout",
     "output_type": "stream",
     "text": [
      "\n",
      "\n",
      "1. We know that the FIFA World Cup is a football tournament.\n",
      "2. We\n"
     ]
    }
   ],
   "source": [
    "\n",
    "template = \"\"\"Question: {question}\n",
    "\n",
    "Answer: Let's think step by step.\"\"\"\n",
    "prompt = PromptTemplate(template=template, input_variables=[\"question\"])\n",
    "llm_chain = LLMChain(prompt=prompt, llm=llm)\n",
    "\n",
    "question = \"Who won the FIFA World Cup in the year 1994? \"\n",
    "\n",
    "print(llm_chain.run(question))"
   ]
  },
  {
   "cell_type": "code",
   "execution_count": null,
   "id": "7b0d639a-d436-4fd0-8752-f1e8493f24eb",
   "metadata": {},
   "outputs": [],
   "source": []
  }
 ],
 "metadata": {
  "kernelspec": {
   "display_name": "Python 3",
   "language": "python",
   "name": "python3"
  },
  "language_info": {
   "codemirror_mode": {
    "name": "ipython",
    "version": 3
   },
   "file_extension": ".py",
   "mimetype": "text/x-python",
   "name": "python",
   "nbconvert_exporter": "python",
   "pygments_lexer": "ipython3",
   "version": "3.8.10"
  }
 },
 "nbformat": 4,
 "nbformat_minor": 5
}
